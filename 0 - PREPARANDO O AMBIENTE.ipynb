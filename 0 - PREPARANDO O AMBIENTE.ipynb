{
 "cells": [
  {
   "cell_type": "markdown",
   "metadata": {},
   "source": [
    "<br>\n",
    "<div><center> \n",
    "   \n",
    "<img src=\"images/logofacens.jpeg\" width=\"300px\">\n",
    "    \n",
    "<br>\n",
    "    \n",
    "<h1>FACULDADE DE ENGENHARIA DE SOROCABA</h1>\n",
    "    \n",
    "<h1>ESPECIALIZAÇÃO EM INTELIGÊNCIA ARTIFICIAL APLICADA (MACHINE LEARNING)</h1>\n",
    "  \n",
    " <br><br>   \n",
    "    \n",
    "<h1>Detecção de pneumonia por imagens de raio-x</h1>\n",
    "\n",
    "</center></div>\n",
    "\n",
    "<br><br>\n",
    "    \n",
    "<div align=\"right\">\n",
    "<h3>Deverson Basilio da Silva - RA 191299</h3>\n",
    "<h3>Luiz Fernando de Oliveira da Silva - RA 191361</h3>\n",
    "<h3>Orientadora: Prof. Patricia Mika Sakugawa</h3>\n",
    "<div> \n",
    "  \n",
    "<br><br>\n",
    "    \n",
    "<div><center>\n",
    "    \n",
    "<h3>SOROCABA/SP</h3>\n",
    "<h3>2020</h3>\n",
    "    \n",
    "</center></div>"
   ]
  },
  {
   "cell_type": "markdown",
   "metadata": {},
   "source": [
    "<h4>Este notebook tem como objetivo preparar o novo ambiente criado instalando as bibliotecas necessárias para rodar o projeto</h4>\n",
    "\n",
    "<ul>\n",
    "    <li>Pandas</li>\n",
    "    <li>Keras-gpu</li>    \n",
    "    <li>cudnn</li>\n",
    "    <li>cuda10</li>\n",
    "</ul>"
   ]
  },
  {
   "cell_type": "markdown",
   "metadata": {},
   "source": [
    "<h2>Pandas</h2>\n",
    "\n",
    "<p>Bibioteca Python para manipular dados tabulares</p>"
   ]
  },
  {
   "cell_type": "code",
   "execution_count": 3,
   "metadata": {},
   "outputs": [
    {
     "name": "stdout",
     "output_type": "stream",
     "text": [
      "Collecting package metadata (current_repodata.json): ...working... done\n",
      "Solving environment: ...working... done\n",
      "\n",
      "Note: you may need to restart the kernel to use updated packages.\n",
      "# All requested packages already installed.\n",
      "\n",
      "\n"
     ]
    }
   ],
   "source": [
    "conda install pandas"
   ]
  },
  {
   "cell_type": "markdown",
   "metadata": {},
   "source": [
    "<h2>Keras/Keras-gpu</h2>"
   ]
  },
  {
   "cell_type": "code",
   "execution_count": 1,
   "metadata": {},
   "outputs": [
    {
     "name": "stdout",
     "output_type": "stream",
     "text": [
      "Collecting package metadata (current_repodata.json): ...working... done\n",
      "Solving environment: ...working... done\n",
      "\n",
      "## Package Plan ##\n",
      "\n",
      "  environment location: C:\\Users\\T-Gamer\\anaconda3\\envs\\TCC_005\n",
      "\n",
      "  added / updated specs:\n",
      "    - keras-gpu\n",
      "\n",
      "\n",
      "The following packages will be downloaded:\n",
      "\n",
      "    package                    |            build\n",
      "    ---------------------------|-----------------\n",
      "    ca-certificates-2020.10.14 |                0         159 KB  anaconda\n",
      "    openssl-1.1.1h             |       he774522_0         5.8 MB  anaconda\n",
      "    ------------------------------------------------------------\n",
      "                                           Total:         5.9 MB\n",
      "\n",
      "The following packages will be SUPERSEDED by a higher-priority channel:\n",
      "\n",
      "  ca-certificates                                 pkgs/main --> anaconda\n",
      "  certifi            pkgs/main/noarch::certifi-2020.6.20-p~ --> anaconda/win-64::certifi-2020.6.20-py37_0\n",
      "  openssl                                         pkgs/main --> anaconda\n",
      "\n",
      "\n",
      "\n",
      "Downloading and Extracting Packages\n",
      "\n",
      "openssl-1.1.1h       | 5.8 MB    |            |   0% \n",
      "openssl-1.1.1h       | 5.8 MB    |            |   0% \n",
      "openssl-1.1.1h       | 5.8 MB    | 2          |   2% \n",
      "openssl-1.1.1h       | 5.8 MB    | 6          |   7% \n",
      "openssl-1.1.1h       | 5.8 MB    | #          |  11% \n",
      "openssl-1.1.1h       | 5.8 MB    | #8         |  19% \n",
      "openssl-1.1.1h       | 5.8 MB    | ##6        |  26% \n",
      "openssl-1.1.1h       | 5.8 MB    | ###9       |  39% \n",
      "openssl-1.1.1h       | 5.8 MB    | ######     |  60% \n",
      "openssl-1.1.1h       | 5.8 MB    | #########6 |  96% \n",
      "openssl-1.1.1h       | 5.8 MB    | ########## | 100% \n",
      "\n",
      "ca-certificates-2020 | 159 KB    |            |   0% \n",
      "ca-certificates-2020 | 159 KB    | #          |  10% \n",
      "ca-certificates-2020 | 159 KB    | ########## | 100% \n",
      "ca-certificates-2020 | 159 KB    | ########## | 100% \n",
      "Preparing transaction: ...working... done\n",
      "Verifying transaction: ...working... done\n",
      "Executing transaction: ...working... done\n",
      "\n",
      "Note: you may need to restart the kernel to use updated packages.\n"
     ]
    }
   ],
   "source": [
    "conda install -c anaconda keras-gpu"
   ]
  },
  {
   "cell_type": "markdown",
   "metadata": {},
   "source": [
    "<h2>Cudnn</h2>"
   ]
  },
  {
   "cell_type": "markdown",
   "metadata": {},
   "source": [
    "<h2>Cuda10</h2>"
   ]
  },
  {
   "cell_type": "code",
   "execution_count": 2,
   "metadata": {},
   "outputs": [
    {
     "name": "stdout",
     "output_type": "stream",
     "text": [
      "Collecting package metadata (current_repodata.json): ...working... done\n",
      "Solving environment: ...working... done\n",
      "\n",
      "## Package Plan ##\n",
      "\n",
      "  environment location: C:\\Users\\T-Gamer\\anaconda3\\envs\\TCC_005\n",
      "\n",
      "  added / updated specs:\n",
      "    - cudnn==7.6.5=cuda10.1_0\n",
      "\n",
      "\n",
      "The following packages will be downloaded:\n",
      "\n",
      "    package                    |            build\n",
      "    ---------------------------|-----------------\n",
      "    ca-certificates-2020.10.14 |                0         122 KB\n",
      "    openssl-1.1.1h             |       he774522_0         4.8 MB\n",
      "    ------------------------------------------------------------\n",
      "                                           Total:         5.0 MB\n",
      "\n",
      "The following packages will be UPDATED:\n",
      "\n",
      "  certifi            anaconda/win-64::certifi-2020.6.20-py~ --> pkgs/main/noarch::certifi-2020.6.20-pyhd3eb1b0_3\n",
      "\n",
      "The following packages will be SUPERSEDED by a higher-priority channel:\n",
      "\n",
      "  ca-certificates                                  anaconda --> pkgs/main\n",
      "  openssl                                          anaconda --> pkgs/main\n",
      "\n",
      "\n",
      "\n",
      "Downloading and Extracting Packages\n",
      "\n",
      "ca-certificates-2020 | 122 KB    |            |   0% \n",
      "ca-certificates-2020 | 122 KB    | #3         |  13% \n",
      "ca-certificates-2020 | 122 KB    | ########## | 100% \n",
      "ca-certificates-2020 | 122 KB    | ########## | 100% \n",
      "\n",
      "openssl-1.1.1h       | 4.8 MB    |            |   0% \n",
      "openssl-1.1.1h       | 4.8 MB    |            |   0% \n",
      "openssl-1.1.1h       | 4.8 MB    | 2          |   3% \n",
      "openssl-1.1.1h       | 4.8 MB    | 7          |   8% \n",
      "openssl-1.1.1h       | 4.8 MB    | #2         |  13% \n",
      "openssl-1.1.1h       | 4.8 MB    | ##         |  20% \n",
      "openssl-1.1.1h       | 4.8 MB    | ##8        |  28% \n",
      "openssl-1.1.1h       | 4.8 MB    | ###8       |  39% \n",
      "openssl-1.1.1h       | 4.8 MB    | #####8     |  59% \n",
      "openssl-1.1.1h       | 4.8 MB    | ######8    |  69% \n",
      "openssl-1.1.1h       | 4.8 MB    | ########## | 100% \n",
      "openssl-1.1.1h       | 4.8 MB    | ########## | 100% \n",
      "Preparing transaction: ...working... done\n",
      "Verifying transaction: ...working... done\n",
      "Executing transaction: ...working... done\n",
      "\n",
      "Note: you may need to restart the kernel to use updated packages.\n"
     ]
    }
   ],
   "source": [
    "conda install cudnn=7.6.5=cuda10.1_0"
   ]
  },
  {
   "cell_type": "markdown",
   "metadata": {},
   "source": [
    "<h2>split-folders</h2>"
   ]
  },
  {
   "cell_type": "code",
   "execution_count": 5,
   "metadata": {},
   "outputs": [
    {
     "name": "stdout",
     "output_type": "stream",
     "text": [
      "Collecting split-foldersNote: you may need to restart the kernel to use updated packages.\n",
      "  Using cached split_folders-0.4.3-py3-none-any.whl (7.4 kB)\n",
      "Installing collected packages: split-folders\n",
      "Successfully installed split-folders-0.4.3\n",
      "\n"
     ]
    }
   ],
   "source": [
    "pip install split-folders"
   ]
  },
  {
   "cell_type": "markdown",
   "metadata": {},
   "source": [
    "<h2>Pillow</h2>"
   ]
  },
  {
   "cell_type": "code",
   "execution_count": 6,
   "metadata": {},
   "outputs": [
    {
     "name": "stdout",
     "output_type": "stream",
     "text": [
      "Collecting package metadata (current_repodata.json): ...working... done\n",
      "Note: you may need to restart the kernel to use updated packages.\n",
      "Solving environment: ...working... done\n",
      "\n",
      "## Package Plan ##\n",
      "\n",
      "  environment location: C:\\Users\\T-Gamer\\anaconda3\\envs\\TCC_004\n",
      "\n",
      "  added / updated specs:\n",
      "    - pillow\n",
      "\n",
      "\n",
      "The following packages will be downloaded:\n",
      "\n",
      "    package                    |            build\n",
      "    ---------------------------|-----------------\n",
      "    ca-certificates-2020.10.14 |                0         159 KB  anaconda\n",
      "    openssl-1.1.1h             |       he774522_0         5.8 MB  anaconda\n",
      "    ------------------------------------------------------------\n",
      "                                           Total:         5.9 MB\n",
      "\n",
      "The following NEW packages will be INSTALLED:\n",
      "\n",
      "  freetype           anaconda/win-64::freetype-2.10.4-hd328e21_0\n",
      "  libtiff            anaconda/win-64::libtiff-4.1.0-h56a325e_1\n",
      "  lz4-c              anaconda/win-64::lz4-c-1.9.2-hf4a77e7_3\n",
      "  olefile            anaconda/win-64::olefile-0.46-py37_0\n",
      "  pillow             anaconda/win-64::pillow-8.0.0-py37hca74424_0\n",
      "  tk                 anaconda/win-64::tk-8.6.10-he774522_0\n",
      "  xz                 anaconda/win-64::xz-5.2.5-h62dcd97_0\n",
      "  zstd               anaconda/win-64::zstd-1.4.4-ha9fde0e_3\n",
      "\n",
      "The following packages will be SUPERSEDED by a higher-priority channel:\n",
      "\n",
      "  ca-certificates                                 pkgs/main --> anaconda\n",
      "  certifi            pkgs/main/noarch::certifi-2020.6.20-p~ --> anaconda/win-64::certifi-2020.6.20-py37_0\n",
      "  openssl                                         pkgs/main --> anaconda\n",
      "\n",
      "\n",
      "\n",
      "Downloading and Extracting Packages\n",
      "\n",
      "openssl-1.1.1h       | 5.8 MB    |            |   0% \n",
      "openssl-1.1.1h       | 5.8 MB    |            |   0% \n",
      "openssl-1.1.1h       | 5.8 MB    | 2          |   2% \n",
      "openssl-1.1.1h       | 5.8 MB    | 5          |   6% \n",
      "openssl-1.1.1h       | 5.8 MB    | #          |  10% \n",
      "openssl-1.1.1h       | 5.8 MB    | #6         |  16% \n",
      "openssl-1.1.1h       | 5.8 MB    | #8         |  19% \n",
      "openssl-1.1.1h       | 5.8 MB    | ##4        |  24% \n",
      "openssl-1.1.1h       | 5.8 MB    | ###5       |  35% \n",
      "openssl-1.1.1h       | 5.8 MB    | ####3      |  44% \n",
      "openssl-1.1.1h       | 5.8 MB    | #####6     |  57% \n",
      "openssl-1.1.1h       | 5.8 MB    | ########4  |  85% \n",
      "openssl-1.1.1h       | 5.8 MB    | ########## | 100% \n",
      "openssl-1.1.1h       | 5.8 MB    | ########## | 100% \n",
      "\n",
      "ca-certificates-2020 | 159 KB    |            |   0% \n",
      "ca-certificates-2020 | 159 KB    | #          |  10% \n",
      "ca-certificates-2020 | 159 KB    | ########## | 100% \n",
      "ca-certificates-2020 | 159 KB    | ########## | 100% \n",
      "Preparing transaction: ...working... done\n",
      "Verifying transaction: ...working... done\n",
      "Executing transaction: ...working... done\n",
      "\n"
     ]
    }
   ],
   "source": [
    "conda install -c anaconda pillow"
   ]
  },
  {
   "cell_type": "markdown",
   "metadata": {},
   "source": [
    "<h2>Matplotlib</h2>"
   ]
  },
  {
   "cell_type": "code",
   "execution_count": 4,
   "metadata": {},
   "outputs": [
    {
     "name": "stdout",
     "output_type": "stream",
     "text": [
      "Collecting package metadata (current_repodata.json): ...working... done\n",
      "Solving environment: ...working... done\n",
      "\n",
      "# All requested packages already installed.\n",
      "\n",
      "\n",
      "Note: you may need to restart the kernel to use updated packages.\n"
     ]
    }
   ],
   "source": [
    "conda install matplotlib"
   ]
  },
  {
   "cell_type": "markdown",
   "metadata": {},
   "source": [
    "<h2>Sklearn</h2>"
   ]
  },
  {
   "cell_type": "code",
   "execution_count": 6,
   "metadata": {},
   "outputs": [
    {
     "name": "stdout",
     "output_type": "stream",
     "text": [
      "Collecting sklearn\n",
      "  Downloading sklearn-0.0.tar.gz (1.1 kB)\n",
      "Collecting scikit-learn\n",
      "  Downloading scikit_learn-0.23.2-cp37-cp37m-win_amd64.whl (6.8 MB)\n",
      "Requirement already satisfied: numpy>=1.13.3 in c:\\users\\t-gamer\\anaconda3\\envs\\tcc_005\\lib\\site-packages (from scikit-learn->sklearn) (1.19.1)\n",
      "Collecting threadpoolctl>=2.0.0\n",
      "  Downloading threadpoolctl-2.1.0-py3-none-any.whl (12 kB)\n",
      "Requirement already satisfied: scipy>=0.19.1 in c:\\users\\t-gamer\\anaconda3\\envs\\tcc_005\\lib\\site-packages (from scikit-learn->sklearn) (1.5.2)\n",
      "Collecting joblib>=0.11\n",
      "  Downloading joblib-0.17.0-py3-none-any.whl (301 kB)\n",
      "Building wheels for collected packages: sklearn\n",
      "  Building wheel for sklearn (setup.py): started\n",
      "  Building wheel for sklearn (setup.py): finished with status 'done'\n",
      "  Created wheel for sklearn: filename=sklearn-0.0-py2.py3-none-any.whl size=1321 sha256=a8a836678c6bbc9b6e2acc54a6e8fc213d0337d2b8ce111b513078ff0f466200\n",
      "  Stored in directory: c:\\users\\t-gamer\\appdata\\local\\pip\\cache\\wheels\\46\\ef\\c3\\157e41f5ee1372d1be90b09f74f82b10e391eaacca8f22d33e\n",
      "Successfully built sklearn\n",
      "Installing collected packages: threadpoolctl, joblib, scikit-learn, sklearn\n",
      "Successfully installed joblib-0.17.0 scikit-learn-0.23.2 sklearn-0.0 threadpoolctl-2.1.0\n",
      "Note: you may need to restart the kernel to use updated packages.\n"
     ]
    }
   ],
   "source": [
    "pip install sklearn"
   ]
  },
  {
   "cell_type": "markdown",
   "metadata": {},
   "source": [
    "<h1>TESTANDO</h1>"
   ]
  },
  {
   "cell_type": "markdown",
   "metadata": {},
   "source": [
    "<h3>Importando bibliotecas.</h3>"
   ]
  },
  {
   "cell_type": "code",
   "execution_count": 4,
   "metadata": {},
   "outputs": [
    {
     "name": "stderr",
     "output_type": "stream",
     "text": [
      "Using TensorFlow backend.\n"
     ]
    }
   ],
   "source": [
    "import os\n",
    "import filecmp\n",
    "import numpy              as np\n",
    "import pandas             as pd\n",
    "import matplotlib.pyplot  as plt\n",
    "import tensorflow         as tf\n",
    "import random\n",
    "import shutil\n",
    "import seaborn            as sns\n",
    "\n",
    "from distutils.dir_util        import copy_tree\n",
    "from shutil                    import copyfile\n",
    "from sklearn.model_selection   import train_test_split\n",
    "\n",
    "from sklearn.metrics           import classification_report, confusion_matrix\n",
    "\n",
    "from keras.preprocessing.image import ImageDataGenerator\n",
    "\n",
    "from tensorflow.keras.models import load_model\n",
    "from tensorflow.python.keras.layers  import Flatten\n",
    "from tensorflow.python.keras.layers  import Dense\n",
    "from tensorflow.python.keras.layers  import Dropout\n",
    "\n",
    "from keras.callbacks           import ModelCheckpoint\n",
    "from keras.callbacks           import EarlyStopping\n",
    "from keras.callbacks           import ReduceLROnPlateau\n",
    "from keras.callbacks           import CSVLogger\n",
    "\n",
    "from tensorflow.keras.applications.vgg16     import VGG16\n",
    "from tensorflow.keras.applications.vgg19     import VGG19\n",
    "from tensorflow.keras.applications.resnet50   import ResNet50 \n",
    "from tensorflow.keras.applications.inception_v3        import InceptionV3\n",
    "from tensorflow.keras.applications.inception_resnet_v2  import InceptionResNetV2\n",
    "\n",
    "from tensorflow.python.keras.models  import Model\n",
    "from tensorflow.keras.optimizers     import Adam"
   ]
  },
  {
   "cell_type": "markdown",
   "metadata": {},
   "source": [
    "<h3>Testando se o tensorflow reconhece a GPU</h3>"
   ]
  },
  {
   "cell_type": "code",
   "execution_count": 3,
   "metadata": {},
   "outputs": [
    {
     "name": "stdout",
     "output_type": "stream",
     "text": [
      "Num GPUs Available:  1\n"
     ]
    }
   ],
   "source": [
    "import tensorflow as tf\n",
    "\n",
    "print(\"Num GPUs Available: \", len(tf.config.experimental.list_physical_devices('GPU')))"
   ]
  },
  {
   "cell_type": "code",
   "execution_count": 8,
   "metadata": {},
   "outputs": [
    {
     "name": "stdout",
     "output_type": "stream",
     "text": [
      "[name: \"/device:CPU:0\"\n",
      "device_type: \"CPU\"\n",
      "memory_limit: 268435456\n",
      "locality {\n",
      "}\n",
      "incarnation: 7110214226378108338\n",
      ", name: \"/device:GPU:0\"\n",
      "device_type: \"GPU\"\n",
      "memory_limit: 3077223220\n",
      "locality {\n",
      "  bus_id: 1\n",
      "  links {\n",
      "  }\n",
      "}\n",
      "incarnation: 2281827774466171821\n",
      "physical_device_desc: \"device: 0, name: GeForce GTX 1050 Ti, pci bus id: 0000:07:00.0, compute capability: 6.1\"\n",
      "]\n"
     ]
    }
   ],
   "source": [
    "from tensorflow.python.client import device_lib\n",
    "print(device_lib.list_local_devices())"
   ]
  },
  {
   "cell_type": "markdown",
   "metadata": {},
   "source": [
    "<h3>Checando versão do Keras</h3>"
   ]
  },
  {
   "cell_type": "code",
   "execution_count": 7,
   "metadata": {},
   "outputs": [
    {
     "name": "stderr",
     "output_type": "stream",
     "text": [
      "Using TensorFlow backend.\n"
     ]
    },
    {
     "data": {
      "text/plain": [
       "'2.3.1'"
      ]
     },
     "execution_count": 7,
     "metadata": {},
     "output_type": "execute_result"
    }
   ],
   "source": [
    "import keras\n",
    "keras.__version__"
   ]
  },
  {
   "cell_type": "code",
   "execution_count": null,
   "metadata": {},
   "outputs": [],
   "source": []
  }
 ],
 "metadata": {
  "kernelspec": {
   "display_name": "Python 3",
   "language": "python",
   "name": "python3"
  },
  "language_info": {
   "codemirror_mode": {
    "name": "ipython",
    "version": 3
   },
   "file_extension": ".py",
   "mimetype": "text/x-python",
   "name": "python",
   "nbconvert_exporter": "python",
   "pygments_lexer": "ipython3",
   "version": "3.7.3"
  }
 },
 "nbformat": 4,
 "nbformat_minor": 4
}
